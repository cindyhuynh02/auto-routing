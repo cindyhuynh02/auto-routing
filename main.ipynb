{
 "cells": [
  {
   "cell_type": "markdown",
   "metadata": {},
   "source": [
    "Step 1: Init data reference into Vector Database (Qdrant)"
   ]
  },
  {
   "cell_type": "code",
   "execution_count": null,
   "metadata": {},
   "outputs": [],
   "source": [
    "from model.AutoRouting import *\n",
    "LOGGER = logger.Logger().get_logger(logger_type=\"embedding_\")\n",
    "\n",
    "qr = Qdrant()\n",
    "model = AutoRouting()\n",
    "model.clear_cuda_cache() \n",
    "current_hour = datetime.now().hour"
   ]
  },
  {
   "cell_type": "code",
   "execution_count": 2,
   "metadata": {},
   "outputs": [],
   "source": [
    "# Máy tính bạn nào có Cuda thì mở comment\n",
    "\n",
    "# device = torch.device(\"cuda\" if torch.cuda.is_available() else \"cpu\")\n",
    "# LOGGER.info(\"Using device:\", device)\n",
    "\n",
    "# Additional Info when using cuda\n",
    "# if device.type == \"cuda\":\n",
    "#     LOGGER.info(torch.cuda.get_device_name(0))\n",
    "#     LOGGER.info(\"Memory Usage:\")\n",
    "#     LOGGER.info(\"Allocated: %.1f GB\", round(torch.cuda.memory_allocated(0) / 1024**3, 1))\n",
    "#     LOGGER.info(\"Cached:   %.1f GB\", round(torch.cuda.memory_reserved(0) / 1024**3, 1))\n",
    "# curdir = os.getcwd()"
   ]
  },
  {
   "cell_type": "markdown",
   "metadata": {},
   "source": [
    "Step 2: Insert data reference to Qdrant vector database"
   ]
  },
  {
   "cell_type": "code",
   "execution_count": null,
   "metadata": {},
   "outputs": [],
   "source": [
    "try:\n",
    "    ref_database = pd.read_csv(os.path.join(os.getcwd(), 'data/data_reference.csv'))\n",
    "    if len(ref_database) > 0: \n",
    "        df = await model.embedding(ref_database)\n",
    "        df.to_pickle(os.path.join(os.getcwd(), 'data/data_reference.pkl'))\n",
    "    else:\n",
    "        LOGGER.info('Dont have any new hub')\n",
    "except Exception as e:\n",
    "    LOGGER.error(f\"An error occurred while init new data_ref: {str(e)}\")"
   ]
  },
  {
   "cell_type": "markdown",
   "metadata": {},
   "source": [
    "Step 3: Main process: search similarity score"
   ]
  },
  {
   "cell_type": "code",
   "execution_count": null,
   "metadata": {},
   "outputs": [],
   "source": [
    "hub_list = [1236]\n",
    "thread_pool = ThreadPoolExecutor(max_workers=8)\n",
    "\n",
    "async def _embedding_(hub_id, batch_size):\n",
    "    try:\n",
    "        LOGGER.info(f'Get data from BigQuery for hub {hub_id}')\n",
    "        data = pd.read_csv(os.path.join(os.getcwd(), 'data/search.csv')).sort_values(by='hub_id')\n",
    "\n",
    "        results_3 = pd.DataFrame()\n",
    "        if len(data) > 0:\n",
    "            results = await model.run(data, batch_size=batch_size)\n",
    "            results_2 = pd.DataFrame(results)\n",
    "            results_3 = data.merge(results_2, on='order_id', how='left')\n",
    "            results_3.to_csv((os.path.join(os.getcwd(), 'data/result.csv')))\n",
    "        del results_3\n",
    "        \n",
    "        LOGGER.info(f'Processed hub {hub_id} data with shape: {data.shape}')\n",
    "            \n",
    "    except Exception as e:\n",
    "        LOGGER.error(f\"Error processing hub {hub_id}: {str(e)}\")\n",
    "\n",
    "async def embedding(hub_list):\n",
    "    LOGGER.info(\"Running search process\")\n",
    "    semaphore = asyncio.Semaphore(8) \n",
    "    async def semaphore_task(task):\n",
    "        async with semaphore:\n",
    "            await task\n",
    "    tasks = [semaphore_task(_embedding_(hub_id, batch_size=1500)) for hub_id in hub_list]\n",
    "    await asyncio.gather(*tasks)\n",
    "    \n",
    "async def main():\n",
    "    try:\n",
    "        start_time = datetime.now()\n",
    "        await embedding(hub_list)\n",
    "        time_taken = (datetime.now() - start_time).total_seconds() / 60\n",
    "        LOGGER.info(f\"Process completed in {time_taken:.2f} minutes\")\n",
    "\n",
    "    except Exception as e:\n",
    "        LOGGER.error(f\"An error occurred: {str(e)}\")\n",
    "\n",
    "if __name__ == \"__main__\":\n",
    "    asyncio.run(main())"
   ]
  }
 ],
 "metadata": {
  "kernelspec": {
   "display_name": "routing",
   "language": "python",
   "name": "python3"
  },
  "language_info": {
   "codemirror_mode": {
    "name": "ipython",
    "version": 3
   },
   "file_extension": ".py",
   "mimetype": "text/x-python",
   "name": "python",
   "nbconvert_exporter": "python",
   "pygments_lexer": "ipython3",
   "version": "3.10.16"
  }
 },
 "nbformat": 4,
 "nbformat_minor": 2
}
